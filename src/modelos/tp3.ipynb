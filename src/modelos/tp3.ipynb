{
 "cells": [
  {
   "metadata": {
    "ExecuteTime": {
     "end_time": "2024-09-03T02:48:50.993827Z",
     "start_time": "2024-09-03T02:48:50.470401Z"
    }
   },
   "cell_type": "code",
   "source": [
    "from fractions import Fraction\n",
    "\n",
    "import sympy as sp\n",
    "import numpy as np\n",
    "import pandas as pd\n",
    "import matplotlib.pyplot as plt\n",
    "\n",
    "from sympy import *\n",
    "from fractions import Fraction\n",
    "from sympy.interactive import printing\n",
    "from IPython.display import display, display_latex\n",
    "\n",
    "printing.init_printing(use_latex=\"matplotlib\")\n",
    "pd.set_option('display.float_format', lambda x: '%.0f' % x)\n"
   ],
   "id": "24f73b635a1aff70",
   "outputs": [],
   "execution_count": 1
  },
  {
   "metadata": {
    "ExecuteTime": {
     "end_time": "2024-09-03T03:05:34.863818Z",
     "start_time": "2024-09-03T03:05:34.825705Z"
    }
   },
   "cell_type": "code",
   "source": [
    "# Definimos las variables simbólicas\n",
    "_lambda, _micro, _rho = sp.symbols('\\\\lambda \\\\mu \\\\rho')\n",
    "\n",
    "\n",
    "with sp.evaluate(False):\n",
    "    tasa_arribos = Eq(Eq(_lambda, Dummy(\"\\\\frac{15}{60}\")), 15/60)\n",
    "    display(tasa_arribos)\n",
    "    tasa_servicio = Eq(Eq(_micro, Dummy(\"\\\\frac{10}{60}\")), 10/60)\n",
    "    display(tasa_servicio)\n",
    "    exp = Eq(_rho, Dummy(\"\\\\frac{\\\\lambda}{\\\\mu}\"))\n",
    "    # display(exp)\n",
    "\n",
    "    factor_utilizacion = Eq(exp, (15/60)/(10/60))\n",
    "    display(factor_utilizacion)"
   ],
   "id": "db8d2c743850f0ed",
   "outputs": [
    {
     "data": {
      "text/plain": [
       "\\lambda = \\frac{15}{60} = 0.25"
      ],
      "image/png": "[encoded data removed]"
     },
     "metadata": {},
     "output_type": "display_data"
    },
    {
     "data": {
      "text/plain": [
       "\\mu = \\frac{10}{60} = 0.166666666666667"
      ],
      "image/png": "[encoded data removed]"
     },
     "metadata": {},
     "output_type": "display_data"
    },
    {
     "data": {
      "text/plain": [
       "\\rho = \\frac{\\lambda}{\\mu} = 1.5"
      ],
      "image/png": "[encoded data removed]"
     },
     "metadata": {},
     "output_type": "display_data"
    }
   ],
   "execution_count": 31
  },
  {
   "metadata": {
    "ExecuteTime": {
     "end_time": "2024-09-03T15:06:57.602586Z",
     "start_time": "2024-09-03T15:06:57.585534Z"
    }
   },
   "cell_type": "code",
   "source": [
    "# Definimos las variables simbólicas\n",
    "s, Ls, Lq, Ws, Wq = sp.symbols('s Ls Lq Ws Wq')\n",
    "\n",
    "with sp.evaluate(False):\n",
    "    Ws_formula = Eq(Eq(Ws, Dummy(\"\\\\frac{Ls}{\\\\lambda}\")), Dummy(\"\\\\frac{3.42857}{15}\"))\n",
    "    display(Ws_formula)\n"
   ],
   "id": "72efa85e2ccad94d",
   "outputs": [
    {
     "data": {
      "text/plain": [
       "Ws = \\frac{Ls}{\\lambda} = \\frac{3.42857}{15}"
      ],
      "image/png": "[encoded data removed]"
     },
     "metadata": {},
     "output_type": "display_data"
    }
   ],
   "execution_count": 33
  }
 ],
 "metadata": {
  "kernelspec": {
   "display_name": "Python 3",
   "language": "python",
   "name": "python3"
  },
  "language_info": {
   "codemirror_mode": {
    "name": "ipython",
    "version": 2
   },
   "file_extension": ".py",
   "mimetype": "text/x-python",
   "name": "python",
   "nbconvert_exporter": "python",
   "pygments_lexer": "ipython2",
   "version": "2.7.6"
  }
 },
 "nbformat": 4,
 "nbformat_minor": 5
}
