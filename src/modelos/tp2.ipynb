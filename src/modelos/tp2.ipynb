{
 "cells": [
  {
   "cell_type": "code",
   "id": "initial_id",
   "metadata": {
    "collapsed": true,
    "ExecuteTime": {
     "end_time": "2024-09-03T02:12:35.690954Z",
     "start_time": "2024-09-03T02:12:35.055699Z"
    }
   },
   "source": [
    "import sympy as sp\n",
    "import numpy as np\n",
    "import pandas as pd\n",
    "import matplotlib.pyplot as plt\n",
    "\n",
    "from sympy import *\n",
    "from sympy.interactive import printing\n",
    "from IPython.display import display, display_latex\n",
    "\n",
    "printing.init_printing(use_latex=\"matplotlib\")\n",
    "pd.set_option('display.float_format', lambda x: '%.0f' % x)\n"
   ],
   "outputs": [],
   "execution_count": 1
  },
  {
   "metadata": {
    "ExecuteTime": {
     "end_time": "2024-09-03T02:12:35.717150Z",
     "start_time": "2024-09-03T02:12:35.703992Z"
    }
   },
   "cell_type": "code",
   "source": [
    "precio_venta = 30000\n",
    "precio_compra = 20000\n",
    "\n",
    "alternativas = [100000, 500000, 700000]\n",
    "\n",
    "matriz_rendimiento = pd.DataFrame(0, index=alternativas, columns=alternativas)\n",
    "\n",
    "for cantidad_compra in alternativas:\n",
    "    for cantidad_venta in alternativas:\n",
    "        cantidad_venta_efectiva = min(cantidad_venta, cantidad_compra)\n",
    "        rendimiento = (cantidad_venta_efectiva * precio_venta) - (cantidad_compra * precio_compra)\n",
    "        matriz_rendimiento.loc[cantidad_compra, cantidad_venta] = rendimiento\n",
    "matriz_rendimiento\n"
   ],
   "id": "4d96cb26a56f1e",
   "outputs": [
    {
     "data": {
      "text/plain": [
       "             100000      500000      700000\n",
       "100000   1000000000  1000000000  1000000000\n",
       "500000  -7000000000  5000000000  5000000000\n",
       "700000 -11000000000  1000000000  7000000000"
      ],
      "text/html": [
       "<div>\n",
       "<style scoped>\n",
       "    .dataframe tbody tr th:only-of-type {\n",
       "        vertical-align: middle;\n",
       "    }\n",
       "\n",
       "    .dataframe tbody tr th {\n",
       "        vertical-align: top;\n",
       "    }\n",
       "\n",
       "    .dataframe thead th {\n",
       "        text-align: right;\n",
       "    }\n",
       "</style>\n",
       "<table border=\"1\" class=\"dataframe\">\n",
       "  <thead>\n",
       "    <tr style=\"text-align: right;\">\n",
       "      <th></th>\n",
       "      <th>100000</th>\n",
       "      <th>500000</th>\n",
       "      <th>700000</th>\n",
       "    </tr>\n",
       "  </thead>\n",
       "  <tbody>\n",
       "    <tr>\n",
       "      <th>100000</th>\n",
       "      <td>1000000000</td>\n",
       "      <td>1000000000</td>\n",
       "      <td>1000000000</td>\n",
       "    </tr>\n",
       "    <tr>\n",
       "      <th>500000</th>\n",
       "      <td>-7000000000</td>\n",
       "      <td>5000000000</td>\n",
       "      <td>5000000000</td>\n",
       "    </tr>\n",
       "    <tr>\n",
       "      <th>700000</th>\n",
       "      <td>-11000000000</td>\n",
       "      <td>1000000000</td>\n",
       "      <td>7000000000</td>\n",
       "    </tr>\n",
       "  </tbody>\n",
       "</table>\n",
       "</div>"
      ]
     },
     "execution_count": 2,
     "metadata": {},
     "output_type": "execute_result"
    }
   ],
   "execution_count": 2
  },
  {
   "metadata": {
    "ExecuteTime": {
     "end_time": "2024-09-03T02:12:35.904710Z",
     "start_time": "2024-09-03T02:12:35.899319Z"
    }
   },
   "cell_type": "code",
   "source": [
    "\n",
    "matriz_laplace = matriz_rendimiento.copy()\n",
    "# matriz_laplace.iloc[:,0:]\n",
    "matriz_laplace['Criterio Laplace (promedio de la fila)'] = matriz_laplace.mean(axis=1)\n",
    "# \n",
    "matriz_laplace"
   ],
   "id": "ff27cf587f27bf81",
   "outputs": [
    {
     "data": {
      "text/plain": [
       "             100000      500000      700000  \\\n",
       "100000   1000000000  1000000000  1000000000   \n",
       "500000  -7000000000  5000000000  5000000000   \n",
       "700000 -11000000000  1000000000  7000000000   \n",
       "\n",
       "        Criterio Laplace (promedio de la fila)  \n",
       "100000                              1000000000  \n",
       "500000                              1000000000  \n",
       "700000                             -1000000000  "
      ],
      "text/html": [
       "<div>\n",
       "<style scoped>\n",
       "    .dataframe tbody tr th:only-of-type {\n",
       "        vertical-align: middle;\n",
       "    }\n",
       "\n",
       "    .dataframe tbody tr th {\n",
       "        vertical-align: top;\n",
       "    }\n",
       "\n",
       "    .dataframe thead th {\n",
       "        text-align: right;\n",
       "    }\n",
       "</style>\n",
       "<table border=\"1\" class=\"dataframe\">\n",
       "  <thead>\n",
       "    <tr style=\"text-align: right;\">\n",
       "      <th></th>\n",
       "      <th>100000</th>\n",
       "      <th>500000</th>\n",
       "      <th>700000</th>\n",
       "      <th>Criterio Laplace (promedio de la fila)</th>\n",
       "    </tr>\n",
       "  </thead>\n",
       "  <tbody>\n",
       "    <tr>\n",
       "      <th>100000</th>\n",
       "      <td>1000000000</td>\n",
       "      <td>1000000000</td>\n",
       "      <td>1000000000</td>\n",
       "      <td>1000000000</td>\n",
       "    </tr>\n",
       "    <tr>\n",
       "      <th>500000</th>\n",
       "      <td>-7000000000</td>\n",
       "      <td>5000000000</td>\n",
       "      <td>5000000000</td>\n",
       "      <td>1000000000</td>\n",
       "    </tr>\n",
       "    <tr>\n",
       "      <th>700000</th>\n",
       "      <td>-11000000000</td>\n",
       "      <td>1000000000</td>\n",
       "      <td>7000000000</td>\n",
       "      <td>-1000000000</td>\n",
       "    </tr>\n",
       "  </tbody>\n",
       "</table>\n",
       "</div>"
      ]
     },
     "execution_count": 3,
     "metadata": {},
     "output_type": "execute_result"
    }
   ],
   "execution_count": 3
  },
  {
   "metadata": {
    "ExecuteTime": {
     "end_time": "2024-09-03T02:12:35.956775Z",
     "start_time": "2024-09-03T02:12:35.948563Z"
    }
   },
   "cell_type": "code",
   "source": [
    "matriz_maximin = matriz_rendimiento.copy()\n",
    "matriz_maximin['Criterio Maximin (minimo de la fila)'] = matriz_maximin.min(axis=1)\n",
    "\n",
    "matriz_maximin"
   ],
   "id": "24c0ced0e791bef9",
   "outputs": [
    {
     "data": {
      "text/plain": [
       "             100000      500000      700000  \\\n",
       "100000   1000000000  1000000000  1000000000   \n",
       "500000  -7000000000  5000000000  5000000000   \n",
       "700000 -11000000000  1000000000  7000000000   \n",
       "\n",
       "        Criterio Maximin (minimo de la fila)  \n",
       "100000                            1000000000  \n",
       "500000                           -7000000000  \n",
       "700000                          -11000000000  "
      ],
      "text/html": [
       "<div>\n",
       "<style scoped>\n",
       "    .dataframe tbody tr th:only-of-type {\n",
       "        vertical-align: middle;\n",
       "    }\n",
       "\n",
       "    .dataframe tbody tr th {\n",
       "        vertical-align: top;\n",
       "    }\n",
       "\n",
       "    .dataframe thead th {\n",
       "        text-align: right;\n",
       "    }\n",
       "</style>\n",
       "<table border=\"1\" class=\"dataframe\">\n",
       "  <thead>\n",
       "    <tr style=\"text-align: right;\">\n",
       "      <th></th>\n",
       "      <th>100000</th>\n",
       "      <th>500000</th>\n",
       "      <th>700000</th>\n",
       "      <th>Criterio Maximin (minimo de la fila)</th>\n",
       "    </tr>\n",
       "  </thead>\n",
       "  <tbody>\n",
       "    <tr>\n",
       "      <th>100000</th>\n",
       "      <td>1000000000</td>\n",
       "      <td>1000000000</td>\n",
       "      <td>1000000000</td>\n",
       "      <td>1000000000</td>\n",
       "    </tr>\n",
       "    <tr>\n",
       "      <th>500000</th>\n",
       "      <td>-7000000000</td>\n",
       "      <td>5000000000</td>\n",
       "      <td>5000000000</td>\n",
       "      <td>-7000000000</td>\n",
       "    </tr>\n",
       "    <tr>\n",
       "      <th>700000</th>\n",
       "      <td>-11000000000</td>\n",
       "      <td>1000000000</td>\n",
       "      <td>7000000000</td>\n",
       "      <td>-11000000000</td>\n",
       "    </tr>\n",
       "  </tbody>\n",
       "</table>\n",
       "</div>"
      ]
     },
     "execution_count": 4,
     "metadata": {},
     "output_type": "execute_result"
    }
   ],
   "execution_count": 4
  },
  {
   "metadata": {
    "ExecuteTime": {
     "end_time": "2024-09-03T02:12:36.086442Z",
     "start_time": "2024-09-03T02:12:36.082971Z"
    }
   },
   "cell_type": "code",
   "source": [
    "matriz_maximin_columnar = matriz_rendimiento.max(axis=0)\n",
    "matriz_maximin_columnar\n",
    "# maximin_row"
   ],
   "id": "803937ee4daa89db",
   "outputs": [
    {
     "data": {
      "text/plain": [
       "100000    1000000000\n",
       "500000    5000000000\n",
       "700000    7000000000\n",
       "dtype: int64"
      ]
     },
     "execution_count": 5,
     "metadata": {},
     "output_type": "execute_result"
    }
   ],
   "execution_count": 5
  },
  {
   "metadata": {
    "ExecuteTime": {
     "end_time": "2024-09-03T02:12:36.243478Z",
     "start_time": "2024-09-03T02:12:36.237216Z"
    }
   },
   "cell_type": "code",
   "source": [
    "matriz_savage = matriz_rendimiento.copy()\n",
    "\n",
    "## Restamos de la matriz maximin el valor de savage\n",
    "## Es decir, columna a columna, restamos del valor maximin el valor de la fila savage\n",
    "for index, row in matriz_savage.iterrows():\n",
    "    matriz_savage.loc[index] = matriz_maximin_columnar - matriz_savage.loc[index]\n",
    "\n",
    "\n",
    "#Creamos una columna nueva con el valor maximo de cada fila\n",
    "matriz_savage['Criterio Savage (maximo de la fila)'] = matriz_savage.max(axis=1)\n",
    "\n",
    "matriz_savage\n"
   ],
   "id": "2c539e7b71a9a029",
   "outputs": [
    {
     "data": {
      "text/plain": [
       "             100000      500000      700000  \\\n",
       "100000            0  4000000000  6000000000   \n",
       "500000   8000000000           0  2000000000   \n",
       "700000  12000000000  4000000000           0   \n",
       "\n",
       "        Criterio Savage (maximo de la fila)  \n",
       "100000                           6000000000  \n",
       "500000                           8000000000  \n",
       "700000                          12000000000  "
      ],
      "text/html": [
       "<div>\n",
       "<style scoped>\n",
       "    .dataframe tbody tr th:only-of-type {\n",
       "        vertical-align: middle;\n",
       "    }\n",
       "\n",
       "    .dataframe tbody tr th {\n",
       "        vertical-align: top;\n",
       "    }\n",
       "\n",
       "    .dataframe thead th {\n",
       "        text-align: right;\n",
       "    }\n",
       "</style>\n",
       "<table border=\"1\" class=\"dataframe\">\n",
       "  <thead>\n",
       "    <tr style=\"text-align: right;\">\n",
       "      <th></th>\n",
       "      <th>100000</th>\n",
       "      <th>500000</th>\n",
       "      <th>700000</th>\n",
       "      <th>Criterio Savage (maximo de la fila)</th>\n",
       "    </tr>\n",
       "  </thead>\n",
       "  <tbody>\n",
       "    <tr>\n",
       "      <th>100000</th>\n",
       "      <td>0</td>\n",
       "      <td>4000000000</td>\n",
       "      <td>6000000000</td>\n",
       "      <td>6000000000</td>\n",
       "    </tr>\n",
       "    <tr>\n",
       "      <th>500000</th>\n",
       "      <td>8000000000</td>\n",
       "      <td>0</td>\n",
       "      <td>2000000000</td>\n",
       "      <td>8000000000</td>\n",
       "    </tr>\n",
       "    <tr>\n",
       "      <th>700000</th>\n",
       "      <td>12000000000</td>\n",
       "      <td>4000000000</td>\n",
       "      <td>0</td>\n",
       "      <td>12000000000</td>\n",
       "    </tr>\n",
       "  </tbody>\n",
       "</table>\n",
       "</div>"
      ]
     },
     "execution_count": 6,
     "metadata": {},
     "output_type": "execute_result"
    }
   ],
   "execution_count": 6
  },
  {
   "metadata": {},
   "cell_type": "markdown",
   "source": [
    "# Criterio Savage\n",
    "En este caso, el criterio de Savage nos dice que la mejor alternativa es la que minimiza el peor caso (es decir, tiene un valor de arrepentimiento menor). En este caso, la mejor alternativa es comprar 100000."
   ],
   "id": "482de61c8af05816"
  },
  {
   "metadata": {
    "ExecuteTime": {
     "end_time": "2024-09-03T02:12:36.305791Z",
     "start_time": "2024-09-03T02:12:36.296970Z"
    }
   },
   "cell_type": "code",
   "source": [
    "matriz_hurwicz = matriz_rendimiento.copy()\n",
    "alpha = 0.75\n",
    "\n",
    "# Agregamos dos columnas, con los valores maximos y minimos de cada fila\n",
    "matriz_hurwicz['Minimo'] = matriz_hurwicz.min(axis=1)\n",
    "matriz_hurwicz['Maximo'] = matriz_hurwicz.max(axis=1)\n",
    "# calculamos el criterio de Hurwicz\n",
    "matriz_hurwicz['Criterio Hurwicz'] = (alpha * matriz_hurwicz['Maximo']) + ((1-alpha) * matriz_hurwicz['Minimo'])\n",
    "\n",
    "matriz_hurwicz\n"
   ],
   "id": "c2004f827148657a",
   "outputs": [
    {
     "data": {
      "text/plain": [
       "             100000      500000      700000       Minimo      Maximo  \\\n",
       "100000   1000000000  1000000000  1000000000   1000000000  1000000000   \n",
       "500000  -7000000000  5000000000  5000000000  -7000000000  5000000000   \n",
       "700000 -11000000000  1000000000  7000000000 -11000000000  7000000000   \n",
       "\n",
       "        Criterio Hurwicz  \n",
       "100000        1000000000  \n",
       "500000        2000000000  \n",
       "700000        2500000000  "
      ],
      "text/html": [
       "<div>\n",
       "<style scoped>\n",
       "    .dataframe tbody tr th:only-of-type {\n",
       "        vertical-align: middle;\n",
       "    }\n",
       "\n",
       "    .dataframe tbody tr th {\n",
       "        vertical-align: top;\n",
       "    }\n",
       "\n",
       "    .dataframe thead th {\n",
       "        text-align: right;\n",
       "    }\n",
       "</style>\n",
       "<table border=\"1\" class=\"dataframe\">\n",
       "  <thead>\n",
       "    <tr style=\"text-align: right;\">\n",
       "      <th></th>\n",
       "      <th>100000</th>\n",
       "      <th>500000</th>\n",
       "      <th>700000</th>\n",
       "      <th>Minimo</th>\n",
       "      <th>Maximo</th>\n",
       "      <th>Criterio Hurwicz</th>\n",
       "    </tr>\n",
       "  </thead>\n",
       "  <tbody>\n",
       "    <tr>\n",
       "      <th>100000</th>\n",
       "      <td>1000000000</td>\n",
       "      <td>1000000000</td>\n",
       "      <td>1000000000</td>\n",
       "      <td>1000000000</td>\n",
       "      <td>1000000000</td>\n",
       "      <td>1000000000</td>\n",
       "    </tr>\n",
       "    <tr>\n",
       "      <th>500000</th>\n",
       "      <td>-7000000000</td>\n",
       "      <td>5000000000</td>\n",
       "      <td>5000000000</td>\n",
       "      <td>-7000000000</td>\n",
       "      <td>5000000000</td>\n",
       "      <td>2000000000</td>\n",
       "    </tr>\n",
       "    <tr>\n",
       "      <th>700000</th>\n",
       "      <td>-11000000000</td>\n",
       "      <td>1000000000</td>\n",
       "      <td>7000000000</td>\n",
       "      <td>-11000000000</td>\n",
       "      <td>7000000000</td>\n",
       "      <td>2500000000</td>\n",
       "    </tr>\n",
       "  </tbody>\n",
       "</table>\n",
       "</div>"
      ]
     },
     "execution_count": 7,
     "metadata": {},
     "output_type": "execute_result"
    }
   ],
   "execution_count": 7
  },
  {
   "metadata": {
    "ExecuteTime": {
     "end_time": "2024-09-03T02:28:46.311666Z",
     "start_time": "2024-09-03T02:28:46.304699Z"
    }
   },
   "cell_type": "code",
   "source": [
    "matriz_hurwicz = matriz_rendimiento.copy()\n",
    "alpha = 0.51\n",
    "\n",
    "# Agregamos dos columnas, con los valores maximos y minimos de cada fila\n",
    "matriz_hurwicz['Minimo'] = matriz_hurwicz.min(axis=1)\n",
    "matriz_hurwicz['Maximo'] = matriz_hurwicz.max(axis=1)\n",
    "# calculamos el criterio de Hurwicz\n",
    "matriz_hurwicz['Criterio Hurwicz'] = (alpha * matriz_hurwicz['Maximo']) + ((1-alpha) * matriz_hurwicz['Minimo'])\n",
    "\n",
    "matriz_hurwicz"
   ],
   "id": "6299051882bc30c2",
   "outputs": [
    {
     "data": {
      "text/plain": [
       "             100000      500000      700000       Minimo      Maximo  \\\n",
       "100000   1000000000  1000000000  1000000000   1000000000  1000000000   \n",
       "500000  -7000000000  5000000000  5000000000  -7000000000  5000000000   \n",
       "700000 -11000000000  1000000000  7000000000 -11000000000  7000000000   \n",
       "\n",
       "        Criterio Hurwicz  \n",
       "100000        1000000000  \n",
       "500000        -880000000  \n",
       "700000       -1820000000  "
      ],
      "text/html": [
       "<div>\n",
       "<style scoped>\n",
       "    .dataframe tbody tr th:only-of-type {\n",
       "        vertical-align: middle;\n",
       "    }\n",
       "\n",
       "    .dataframe tbody tr th {\n",
       "        vertical-align: top;\n",
       "    }\n",
       "\n",
       "    .dataframe thead th {\n",
       "        text-align: right;\n",
       "    }\n",
       "</style>\n",
       "<table border=\"1\" class=\"dataframe\">\n",
       "  <thead>\n",
       "    <tr style=\"text-align: right;\">\n",
       "      <th></th>\n",
       "      <th>100000</th>\n",
       "      <th>500000</th>\n",
       "      <th>700000</th>\n",
       "      <th>Minimo</th>\n",
       "      <th>Maximo</th>\n",
       "      <th>Criterio Hurwicz</th>\n",
       "    </tr>\n",
       "  </thead>\n",
       "  <tbody>\n",
       "    <tr>\n",
       "      <th>100000</th>\n",
       "      <td>1000000000</td>\n",
       "      <td>1000000000</td>\n",
       "      <td>1000000000</td>\n",
       "      <td>1000000000</td>\n",
       "      <td>1000000000</td>\n",
       "      <td>1000000000</td>\n",
       "    </tr>\n",
       "    <tr>\n",
       "      <th>500000</th>\n",
       "      <td>-7000000000</td>\n",
       "      <td>5000000000</td>\n",
       "      <td>5000000000</td>\n",
       "      <td>-7000000000</td>\n",
       "      <td>5000000000</td>\n",
       "      <td>-880000000</td>\n",
       "    </tr>\n",
       "    <tr>\n",
       "      <th>700000</th>\n",
       "      <td>-11000000000</td>\n",
       "      <td>1000000000</td>\n",
       "      <td>7000000000</td>\n",
       "      <td>-11000000000</td>\n",
       "      <td>7000000000</td>\n",
       "      <td>-1820000000</td>\n",
       "    </tr>\n",
       "  </tbody>\n",
       "</table>\n",
       "</div>"
      ]
     },
     "execution_count": 9,
     "metadata": {},
     "output_type": "execute_result"
    }
   ],
   "execution_count": 9
  },
  {
   "metadata": {
    "ExecuteTime": {
     "end_time": "2024-09-03T02:31:15.501093Z",
     "start_time": "2024-09-03T02:31:15.492102Z"
    }
   },
   "cell_type": "code",
   "source": [
    "matriz_hurwicz = matriz_rendimiento.copy()\n",
    "alpha = 0.6666666666666666\n",
    "\n",
    "# Agregamos dos columnas, con los valores maximos y minimos de cada fila\n",
    "matriz_hurwicz['Minimo'] = matriz_hurwicz.min(axis=1)\n",
    "matriz_hurwicz['Maximo'] = matriz_hurwicz.max(axis=1)\n",
    "# calculamos el criterio de Hurwicz\n",
    "matriz_hurwicz['Criterio Hurwicz'] = (alpha * matriz_hurwicz['Maximo']) + ((1-alpha) * matriz_hurwicz['Minimo'])\n",
    "\n",
    "matriz_hurwicz"
   ],
   "id": "dfa601f168b3d810",
   "outputs": [
    {
     "data": {
      "text/plain": [
       "             100000      500000      700000       Minimo      Maximo  \\\n",
       "100000   1000000000  1000000000  1000000000   1000000000  1000000000   \n",
       "500000  -7000000000  5000000000  5000000000  -7000000000  5000000000   \n",
       "700000 -11000000000  1000000000  7000000000 -11000000000  7000000000   \n",
       "\n",
       "        Criterio Hurwicz  \n",
       "100000        1000000000  \n",
       "500000        1000000000  \n",
       "700000        1000000000  "
      ],
      "text/html": [
       "<div>\n",
       "<style scoped>\n",
       "    .dataframe tbody tr th:only-of-type {\n",
       "        vertical-align: middle;\n",
       "    }\n",
       "\n",
       "    .dataframe tbody tr th {\n",
       "        vertical-align: top;\n",
       "    }\n",
       "\n",
       "    .dataframe thead th {\n",
       "        text-align: right;\n",
       "    }\n",
       "</style>\n",
       "<table border=\"1\" class=\"dataframe\">\n",
       "  <thead>\n",
       "    <tr style=\"text-align: right;\">\n",
       "      <th></th>\n",
       "      <th>100000</th>\n",
       "      <th>500000</th>\n",
       "      <th>700000</th>\n",
       "      <th>Minimo</th>\n",
       "      <th>Maximo</th>\n",
       "      <th>Criterio Hurwicz</th>\n",
       "    </tr>\n",
       "  </thead>\n",
       "  <tbody>\n",
       "    <tr>\n",
       "      <th>100000</th>\n",
       "      <td>1000000000</td>\n",
       "      <td>1000000000</td>\n",
       "      <td>1000000000</td>\n",
       "      <td>1000000000</td>\n",
       "      <td>1000000000</td>\n",
       "      <td>1000000000</td>\n",
       "    </tr>\n",
       "    <tr>\n",
       "      <th>500000</th>\n",
       "      <td>-7000000000</td>\n",
       "      <td>5000000000</td>\n",
       "      <td>5000000000</td>\n",
       "      <td>-7000000000</td>\n",
       "      <td>5000000000</td>\n",
       "      <td>1000000000</td>\n",
       "    </tr>\n",
       "    <tr>\n",
       "      <th>700000</th>\n",
       "      <td>-11000000000</td>\n",
       "      <td>1000000000</td>\n",
       "      <td>7000000000</td>\n",
       "      <td>-11000000000</td>\n",
       "      <td>7000000000</td>\n",
       "      <td>1000000000</td>\n",
       "    </tr>\n",
       "  </tbody>\n",
       "</table>\n",
       "</div>"
      ]
     },
     "execution_count": 13,
     "metadata": {},
     "output_type": "execute_result"
    }
   ],
   "execution_count": 13
  }
 ],
 "metadata": {
  "kernelspec": {
   "display_name": "Python 3",
   "language": "python",
   "name": "python3"
  },
  "language_info": {
   "codemirror_mode": {
    "name": "ipython",
    "version": 2
   },
   "file_extension": ".py",
   "mimetype": "text/x-python",
   "name": "python",
   "nbconvert_exporter": "python",
   "pygments_lexer": "ipython2",
   "version": "2.7.6"
  }
 },
 "nbformat": 4,
 "nbformat_minor": 5
}
